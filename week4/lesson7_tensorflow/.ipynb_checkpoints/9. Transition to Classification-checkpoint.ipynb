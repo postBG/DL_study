{
 "cells": [
  {
   "cell_type": "markdown",
   "metadata": {},
   "source": [
    "# 9. Transition to Classification"
   ]
  },
  {
   "attachments": {},
   "cell_type": "markdown",
   "metadata": {},
   "source": [
    "![classification img](https://d17h27t6h515a5.cloudfront.net/topher/2017/February/58a4fb36_06-l-supervised-classification-391-1/06-l-supervised-classification-391-1.jpg)\n",
    "\n",
    "Good job! You've accomplished a lot. In particular, you did the following:\n",
    "\n",
    "    - Ran operations in tf.Session.\n",
    "    - Created a constant tensor with tf.constant().\n",
    "    - Used tf.placeholder() and feed_dict to get input.\n",
    "    - Applied the tf.add(), tf.subtract(), tf.multiply(), and tf.divide() functions using numeric data.\n",
    "    - Learned about casting between types with tf.cast()\n",
    "    \n",
    "You know the basics of TensorFlow, so let's take a break and get back to the theory of neural networks. In the next few videos, you're going to learn about one of the most popular applications of neural networks - classification."
   ]
  }
 ],
 "metadata": {
  "kernelspec": {
   "display_name": "Python [conda env:tensorflow]",
   "language": "python",
   "name": "conda-env-tensorflow-py"
  },
  "language_info": {
   "codemirror_mode": {
    "name": "ipython",
    "version": 3
   },
   "file_extension": ".py",
   "mimetype": "text/x-python",
   "name": "python",
   "nbconvert_exporter": "python",
   "pygments_lexer": "ipython3",
   "version": "3.5.3"
  }
 },
 "nbformat": 4,
 "nbformat_minor": 2
}
