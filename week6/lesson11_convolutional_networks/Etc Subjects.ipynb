{
 "cells": [
  {
   "cell_type": "markdown",
   "metadata": {},
   "source": [
    "# Etc Subjects\n",
    "\n",
    "이 파일에는 그냥 따로 노트북을 만들 필요없는 정도의 내용들을 모아두기로 함."
   ]
  },
  {
   "cell_type": "markdown",
   "metadata": {},
   "source": [
    "## 2. Color\n",
    "\n",
    "우리가 현재 배우는 내용은 글자가 어떤 글자인지 알아내는 CNN이다. 이때 색깔은 중요한 feature가 아니므로 그냥 (R+G+B) / 3 이나 gray scale을 사용하는 것이 더 낫다"
   ]
  },
  {
   "cell_type": "markdown",
   "metadata": {},
   "source": [
    "## 3. Statistical Invariance\n",
    "**statistical invariant**는 시간이나 공간 혹은 다른 것들에서 평균을 내면 변하지 않고 일정한 것을 의미한다.\n",
    "\n",
    "### Translation Invariance\n",
    "고양이 사진을 인식한다고 할 때, 그 고양이가 사진의 어디에 위치하던지 상관없이 고양이는 고양이이다. 이런 것을 **Translation Invariance**라고 한다.\n",
    "\n",
    "비슷한 예로 글을 이해하는 신경망의 경우, 단어 하나의 의미는 그 단어가 어디에서 쓰이는지와는 상관없이 거의 일정하다. 즉, 한번 배운 내용을 여러번 재사용 할 수 있다는 의미이다.\n",
    "\n",
    "### Weight sharing\n",
    "위와 같은 statistical invariance를 구현하는데 사용되는 방법"
   ]
  }
 ],
 "metadata": {
  "anaconda-cloud": {},
  "kernelspec": {
   "display_name": "Python [conda env:tensorflow]",
   "language": "python",
   "name": "conda-env-tensorflow-py"
  },
  "language_info": {
   "codemirror_mode": {
    "name": "ipython",
    "version": 3
   },
   "file_extension": ".py",
   "mimetype": "text/x-python",
   "name": "python",
   "nbconvert_exporter": "python",
   "pygments_lexer": "ipython3",
   "version": "3.5.3"
  }
 },
 "nbformat": 4,
 "nbformat_minor": 2
}
