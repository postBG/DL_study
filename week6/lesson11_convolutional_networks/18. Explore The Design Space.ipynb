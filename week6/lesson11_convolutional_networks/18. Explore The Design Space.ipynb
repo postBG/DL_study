{
 "cells": [
  {
   "cell_type": "markdown",
   "metadata": {},
   "source": [
    "# 18. Explore The Design Space"
   ]
  },
  {
   "cell_type": "markdown",
   "metadata": {},
   "source": [
    "## Advanced Convnet-ology\n",
    "ConvNet의 성능을 더욱 발전시키기 위해 사용가능한 방법들\n",
    "\n",
    "* pooling\n",
    "* 1x1 convolutions\n",
    "* inception"
   ]
  },
  {
   "cell_type": "markdown",
   "metadata": {},
   "source": [
    "### Pooling\n",
    "이웃된 뉴런의 값들을 보는 방법\n",
    "\n",
    "* parameter가 추가될 필요없음\n",
    "* often more accurate\n",
    "* more expensive\n",
    "* more hyper-parameters\n",
    "\n",
    "주로 convNet은 몇개의 conv층과 pooling층 후에 몇 개의 fully connect 층을 거치는 형태"
   ]
  },
  {
   "cell_type": "markdown",
   "metadata": {},
   "source": [
    "### pooling의 종류\n",
    "* max pooling\n",
    "* average pooling\n",
    "\n",
    "average pooling은 사진에 blur filter를 하는 효과"
   ]
  }
 ],
 "metadata": {
  "anaconda-cloud": {},
  "kernelspec": {
   "display_name": "Python [conda env:tensorflow]",
   "language": "python",
   "name": "conda-env-tensorflow-py"
  },
  "language_info": {
   "codemirror_mode": {
    "name": "ipython",
    "version": 3
   },
   "file_extension": ".py",
   "mimetype": "text/x-python",
   "name": "python",
   "nbconvert_exporter": "python",
   "pygments_lexer": "ipython3",
   "version": "3.5.3"
  }
 },
 "nbformat": 4,
 "nbformat_minor": 2
}
