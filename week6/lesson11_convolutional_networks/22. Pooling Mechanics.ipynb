{
 "cells": [
  {
   "cell_type": "markdown",
   "metadata": {},
   "source": [
    "# 22, 23. Pooling Mechanics"
   ]
  },
  {
   "cell_type": "markdown",
   "metadata": {},
   "source": [
    "## Setup\n",
    "H = height, W = width, D = depth\n",
    "\n",
    "* We have an input of shape 4x4x5 (HxWxD)\n",
    "* Filter of shape 2x2 (HxW)\n",
    "* A stride of 2 for both the height and width (S)\n",
    "\n",
    "Recall the formula for calculating the new height or width:\n",
    "\n",
    "> new_height = (input_height - filter_height)/S + 1\n",
    "\n",
    "> new_width = (input_width - filter_width)/S + 1\n",
    "\n",
    "**NOTE:** For a pooling layer the output depth is the same as the input depth. Additionally, the pooling operation is applied individually for each depth slice."
   ]
  },
  {
   "cell_type": "markdown",
   "metadata": {},
   "source": [
    "The image below gives an example of how a max pooling layer works. In this case, the max pooling filter has a shape of 2x2. As the max pooling filter slides across the input layer, the filter will output the maximum value of the 2x2 square.\n",
    "![](https://d17h27t6h515a5.cloudfront.net/topher/2017/February/58a5fe3e_convolutionalnetworksquiz/convolutionalnetworksquiz.png)"
   ]
  },
  {
   "cell_type": "markdown",
   "metadata": {},
   "source": [
    "## Quiz\n",
    "What's the shape of the output? Format is HxWxD."
   ]
  },
  {
   "cell_type": "markdown",
   "metadata": {},
   "source": [
    "## Solution\n",
    "The answer is **2x2x5**. Here's how it's calculated using the formula:\n",
    "> (4 - 2)/2 + 1 = 2\n",
    "\n",
    "> (4 - 2)/2 + 1 = 2\n",
    "\n",
    "The depth stays the same.\n",
    "\n",
    "Here's the corresponding code:\n",
    "```python\n",
    "input = tf.placeholder(tf.float32, (None, 4, 4, 5))\n",
    "filter_shape = [1, 2, 2, 1]\n",
    "strides = [1, 2, 2, 1]\n",
    "padding = 'VALID'\n",
    "pool = tf.nn.max_pool(input, filter_shape, strides, padding)\n",
    "```\n",
    "\n",
    "The output shape of **pool** will be **[1, 2, 2, 5]**, even if **padding** is changed to **'SAME'**."
   ]
  }
 ],
 "metadata": {
  "kernelspec": {
   "display_name": "Python [conda env:tensorflow]",
   "language": "python",
   "name": "conda-env-tensorflow-py"
  },
  "language_info": {
   "codemirror_mode": {
    "name": "ipython",
    "version": 3
   },
   "file_extension": ".py",
   "mimetype": "text/x-python",
   "name": "python",
   "nbconvert_exporter": "python",
   "pygments_lexer": "ipython3",
   "version": "3.5.3"
  }
 },
 "nbformat": 4,
 "nbformat_minor": 2
}
