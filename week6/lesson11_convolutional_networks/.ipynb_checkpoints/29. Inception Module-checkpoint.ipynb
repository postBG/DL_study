{
 "cells": [
  {
   "cell_type": "markdown",
   "metadata": {},
   "source": [
    "# 29. Inception Module"
   ]
  },
  {
   "cell_type": "markdown",
   "metadata": {},
   "source": [
    "The idea is that at each layer of your convnet, you can make a choice:\n",
    "* have a pooling operation\n",
    "* have a 2x2 pooling? 5x5? ...\n",
    "* have a convolution\n",
    "\n",
    "하지만, 왜 이것을 우리가 선택해야할까?"
   ]
  },
  {
   "cell_type": "markdown",
   "metadata": {},
   "source": [
    "## 그냥 다 하자!\n",
    "\n",
    "여러가지를 해서 그것들을 다 concatenate함. 그러면 작은 크기에 여러 과정을 거쳐 얻은 feature들을 모아 더 좋은 성능을 낼 수 있음"
   ]
  }
 ],
 "metadata": {
  "anaconda-cloud": {},
  "kernelspec": {
   "display_name": "Python [conda env:tensorflow]",
   "language": "python",
   "name": "conda-env-tensorflow-py"
  },
  "language_info": {
   "codemirror_mode": {
    "name": "ipython",
    "version": 3
   },
   "file_extension": ".py",
   "mimetype": "text/x-python",
   "name": "python",
   "nbconvert_exporter": "python",
   "pygments_lexer": "ipython3",
   "version": "3.5.3"
  }
 },
 "nbformat": 4,
 "nbformat_minor": 2
}
