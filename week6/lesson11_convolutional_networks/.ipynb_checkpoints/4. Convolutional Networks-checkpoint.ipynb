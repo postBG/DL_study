{
 "cells": [
  {
   "cell_type": "markdown",
   "metadata": {},
   "source": [
    "# 4. Convolutional Networks\n",
    "\n",
    "## ConvNet\n",
    "\n",
    "Neural Networks that share their parameters across space."
   ]
  },
  {
   "cell_type": "markdown",
   "metadata": {},
   "source": [
    "## Image\n",
    "\n",
    "image는 **width**, **height**, 그리고 R, G, B와 같은 color channel로 나타내어지는 **depth**가 존재하며, R, G, B channel을 사용하는 경우 depth는 3이 된다.\n",
    "\n",
    "## Convolution\n",
    "입력으로 받은 Image의 작은 patch를 취해, 각 patch마다 output이 K개인 Neural Network을 돌린다고 생각하자. 그리고 이 patch와 neural network간의 weight는 sharing된다고 하면, 우리는 새로운 width, height, depth(=K)를 가지는 새로운 image같은 것을 얻을 수 있다. 즉, width와 height는 stride와 patch의 크기에 따라 줄어들게 되고, 원래는 color channel이었던 depth는 더 많아지는 형태가 된다.또 patch간에 weight를 공유하게 되면서 weight의 정보가 sqeeze out되는 효과가 있다.\n",
    "\n",
    ">A CNN might have several layers, and each layer might capture a different level in the hierarchy of objects. The first layer is the lowest level in the hierarchy, where the CNN generally classifies small parts of the image into simple shapes like horizontal and vertical lines and simple blobs of colors. The subsequent layers tend to be higher levels in the hierarchy and generally classify more complex ideas like shapes (combinations of lines), and eventually full objects like dogs.\n",
    "\n",
    "## Patch(= Kernel)\n",
    "사진의 일부분만 오려낸 것\n",
    "\n",
    "## Feature Map\n",
    "사진에서는 color channel(= depth의 dimension)이며, 이후 convolution에서는 K개가 생기게 된다.\n",
    "\n",
    "## Stride\n",
    "Number of pixels that your shifting each time you move your filter.\n",
    "Stride가 1이면 convolution의 width, height가 image와 정확히 같고, stride가 2이면 반으로 줄어든다. \n",
    "\n",
    "## Valid Padding\n",
    "Stride와 관련된 개념으로 사진의 가장자리를 벗어나지 않으며 patch를 잘라내는 경우를 말한다.\n",
    "\n",
    "## Same Padding\n",
    "Stride와 관련된 개념으로 사진의 가장자리를 stride만큼 덧붙여서 0으로 표현한 것."
   ]
  }
 ],
 "metadata": {
  "anaconda-cloud": {},
  "kernelspec": {
   "display_name": "Python [conda env:tensorflow]",
   "language": "python",
   "name": "conda-env-tensorflow-py"
  },
  "language_info": {
   "codemirror_mode": {
    "name": "ipython",
    "version": 3
   },
   "file_extension": ".py",
   "mimetype": "text/x-python",
   "name": "python",
   "nbconvert_exporter": "python",
   "pygments_lexer": "ipython3",
   "version": "3.5.3"
  }
 },
 "nbformat": 4,
 "nbformat_minor": 2
}
