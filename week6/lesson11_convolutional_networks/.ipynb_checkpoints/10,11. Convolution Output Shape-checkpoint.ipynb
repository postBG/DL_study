{
 "cells": [
  {
   "cell_type": "markdown",
   "metadata": {},
   "source": [
    "# 10, 11. Convolution Output Shape"
   ]
  },
  {
   "cell_type": "markdown",
   "metadata": {},
   "source": [
    "## Introduction\n",
    "For the next few quizzes we'll test your understanding of the dimensions in CNNs. Understanding dimensions will help you make accurate tradeoffs between model size and performance. As you'll see, some parameters have a much bigger impact on model size than others.\n",
    "\n",
    "## Setup\n",
    "H = height, W = width, D = depth\n",
    "* We have an input of shape 32x32x3 (HxWxD)\n",
    "* 20 filters of shape 8x8x3 (HxWxD)\n",
    "* A stride of 2 for both the height and width (S)\n",
    "* With padding of size 1 (P)\n",
    "\n",
    "Recall the formula for calculating the new height or width:\n",
    "> new_height = (input_height - filter_height + 2 * P)/S + 1\n",
    "\n",
    "> new_width = (input_width - filter_width + 2 * P)/S + 1"
   ]
  },
  {
   "cell_type": "markdown",
   "metadata": {},
   "source": [
    "What's the shape of the output? => 14x14x20"
   ]
  },
  {
   "cell_type": "markdown",
   "metadata": {},
   "source": [
    "## Solution\n",
    "The answer is **14x14x20**.\n",
    "\n",
    "We can get the new height and width with the formula resulting in:\n",
    "> (32 - 8 + 2 * 1)/2 + 1 = 14\n",
    "\n",
    "> (32 - 8 + 2 * 1)/2 + 1 = 14\n",
    "\n",
    "The new depth is equal to the number of filters, which is 20."
   ]
  },
  {
   "cell_type": "markdown",
   "metadata": {},
   "source": [
    "This would correspond to the following code:\n",
    "```python\n",
    "input = tf.placeholder(tf.float32, (None, 32, 32, 3))\n",
    "filter_weights = tf.Variable(tf.truncated_normal((8, 8, 3, 20))) # (height, width, input_depth, output_depth)\n",
    "filter_bias = tf.Variable(tf.zeros(20))\n",
    "strides = [1, 2, 2, 1] # (batch, height, width, depth)\n",
    "padding = 'SAME'\n",
    "conv = tf.nn.conv2d(input, filter_weights, strides, padding) + filter_bias\n",
    "```\n",
    "\n",
    "Note the output shape of **conv** will be [1, 16, 16, 20]. It's 4D to account for batch size, but more importantly, it's not [1, 14, 14, 20]. This is because the padding algorithm TensorFlow uses is not exactly the same as the one above. An alternative algorithm is to switch **padding** from **'SAME'** to **'VALID'** which would result in an output shape of [1, 13, 13, 20]. If you're curious how padding works in TensorFlow, read [this document](https://www.tensorflow.org/api_guides/python/nn#Convolution).\n",
    "\n",
    "In summary TensorFlow uses the following equation for **'SAME'** vs **'PADDING'**\n",
    "\n",
    "**SAME Padding**, the output height and width are computed as:\n",
    "> out_height = ceil(float(in_height) / float(strides1))\n",
    "\n",
    "> out_width = ceil(float(in_width) / float(strides[2]))\n",
    "\n",
    "**VALID Padding**, the output height and width are computed as:\n",
    "\n",
    "> out_height = ceil(float(in_height - filter_height + 1) / float(strides1))\n",
    "\n",
    "> out_width = ceil(float(in_width - filter_width + 1) / float(strides[2]))"
   ]
  }
 ],
 "metadata": {
  "anaconda-cloud": {},
  "kernelspec": {
   "display_name": "Python [conda env:tensorflow]",
   "language": "python",
   "name": "conda-env-tensorflow-py"
  },
  "language_info": {
   "codemirror_mode": {
    "name": "ipython",
    "version": 3
   },
   "file_extension": ".py",
   "mimetype": "text/x-python",
   "name": "python",
   "nbconvert_exporter": "python",
   "pygments_lexer": "ipython3",
   "version": "3.5.3"
  }
 },
 "nbformat": 4,
 "nbformat_minor": 2
}
