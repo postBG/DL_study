{
 "cells": [
  {
   "cell_type": "markdown",
   "metadata": {},
   "source": [
    "# 28. 1x1 Convolutions"
   ]
  },
  {
   "cell_type": "markdown",
   "metadata": {},
   "source": [
    "Patch of pixels를 convolution에 사용하는 것이 아니라 1개의 pixel(1x1xdepth)를 사용하여 convolution을 수행"
   ]
  },
  {
   "cell_type": "markdown",
   "metadata": {},
   "source": [
    "## 이것을 도대체 왜 사용하는가?\n",
    "그냥 patch에 convolution을 사용하는 것은 linear classifier를 하나의 patch마다 가지는 것인데, 이 사이에 1x1 convolution을 넣으면 마치 mini neural network running over the patch와 같은 효과가 생김"
   ]
  },
  {
   "cell_type": "markdown",
   "metadata": {},
   "source": [
    "## 요즘은 주로\n",
    "1x1 convolution과 average pooling을 적용하여 하는 것이 가장 효과가 좋다고 알려져있음"
   ]
  }
 ],
 "metadata": {
  "kernelspec": {
   "display_name": "Python [conda env:tensorflow]",
   "language": "python",
   "name": "conda-env-tensorflow-py"
  },
  "language_info": {
   "codemirror_mode": {
    "name": "ipython",
    "version": 3
   },
   "file_extension": ".py",
   "mimetype": "text/x-python",
   "name": "python",
   "nbconvert_exporter": "python",
   "pygments_lexer": "ipython3",
   "version": "3.5.3"
  }
 },
 "nbformat": 4,
 "nbformat_minor": 2
}
