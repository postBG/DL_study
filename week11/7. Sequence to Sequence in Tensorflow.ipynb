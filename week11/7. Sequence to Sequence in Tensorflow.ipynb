{
 "cells": [
  {
   "cell_type": "markdown",
   "metadata": {},
   "source": [
    "# Sequence to sequence in Tensorflow\n",
    "\n",
    "Tensorflow has a bunch of APIs that help you build a sequence to sequence model (also called a seq2seq model for short). It’s important to note that these APIs have changed at the end of 2016 (and in a way are still evolving). A lot of the tutorials you’ll find on the web for seq2seq in tensorflow use the now-deprecated **tf.contrib.legacy_seq2seq** (which was previously called “**tf.nn.seq2seq**”)."
   ]
  },
  {
   "cell_type": "markdown",
   "metadata": {},
   "source": [
    "The modules of note for seq2seq are:\n",
    "* **tf.nn**, which allows us to construct different kinds of RNNs\n",
    "* **tf.contrib.rnn**, which defines a number of RNN cells (an RNN cell is a required parameter for the RNNs defined in tf.nn).\n",
    "* **tf.contrib.seq2seq**, which contains seq2seq decoders and loss operations."
   ]
  },
  {
   "cell_type": "markdown",
   "metadata": {},
   "source": [
    "## The Main Components\n",
    "If we take a high-level view, a seq2seq model has these main components:\n",
    "![seq2seq](assets/sequence-to-sequence-high-level-encoder-decoder.png)\n",
    "\n",
    "* Encoder: this is a **tf.nn.dynamic_rnn**.\n",
    "* Decoder: this is a **tf.contrib.seq2seq.dynamic_rnn_decoder**"
   ]
  },
  {
   "cell_type": "markdown",
   "metadata": {},
   "source": [
    "## tf.nn.dynamic_rnn\n",
    "\n",
    "Reading the documentation for **tf.nn.dynamic_rnn**, you'll see **tf.nn.dynamic_rnn(cell, inputs, sequence_length=None, initial_state=None, dtype=None, parallel_iterations=None, swap_memory=False, time_major=False, scope=None)**\n",
    "\n",
    "So you need to at least pass in the RNN cell you built (for example **tf.contrib.rnn.BasicLSTMCell**). You'll also need to give it the **inputs** tensor, which in this case is the input text data, typically coming from the embedding layer. I also typically pass in an **initial_state** which you've seen in the previous RNN lessons."
   ]
  },
  {
   "cell_type": "markdown",
   "metadata": {},
   "source": [
    "## seq2seq module\n",
    "Read https://www.tensorflow.org/api_docs/python/tf/contrib/seq2seq to understand its major component. You can ignore everything with “attention” for the time being."
   ]
  }
 ],
 "metadata": {
  "anaconda-cloud": {},
  "kernelspec": {
   "display_name": "Python [conda env:tensorflow]",
   "language": "python",
   "name": "conda-env-tensorflow-py"
  },
  "language_info": {
   "codemirror_mode": {
    "name": "ipython",
    "version": 3
   },
   "file_extension": ".py",
   "mimetype": "text/x-python",
   "name": "python",
   "nbconvert_exporter": "python",
   "pygments_lexer": "ipython3",
   "version": "3.5.3"
  }
 },
 "nbformat": 4,
 "nbformat_minor": 2
}
